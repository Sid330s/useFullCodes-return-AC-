{
  "nbformat": 4,
  "nbformat_minor": 0,
  "metadata": {
    "colab": {
      "name": "AIassignrbf.ipynb",
      "provenance": [],
      "collapsed_sections": [],
      "toc_visible": true
    },
    "kernelspec": {
      "name": "python3",
      "display_name": "Python 3"
    }
  },
  "cells": [
    {
      "cell_type": "code",
      "metadata": {
        "id": "Sd3XsbcxJBEm"
      },
      "source": [
        "import numpy as np\r\n",
        "import pandas as pd\r\n",
        "import io \r\n",
        "import sklearn\r\n",
        "from sklearn import preprocessing\r\n",
        "\r\n",
        "from sklearn.model_selection import train_test_split\r\n",
        "from sklearn.metrics import accuracy_score"
      ],
      "execution_count": null,
      "outputs": []
    },
    {
      "cell_type": "code",
      "metadata": {
        "id": "mDQ2W-ATbizC",
        "colab": {
          "base_uri": "https://localhost:8080/"
        },
        "outputId": "20f4e4cc-9510-4471-f41e-2c7afd2a9a09"
      },
      "source": [
        "\r\n",
        "data=pd.read_csv(io.BytesIO(uploaded['DSL-StrongPasswordData.csv']))\r\n",
        "print(data.head())\r\n",
        "data=data.drop([\"sessionIndex\",\"rep\"],axis=1)"
      ],
      "execution_count": null,
      "outputs": [
        {
          "output_type": "stream",
          "text": [
            "  subject  sessionIndex  rep  ...  DD.l.Return  UD.l.Return  H.Return\n",
            "0    s002             1    1  ...       0.3509       0.2171    0.0742\n",
            "1    s002             1    2  ...       0.2756       0.1917    0.0747\n",
            "2    s002             1    3  ...       0.2847       0.1762    0.0945\n",
            "3    s002             1    4  ...       0.3232       0.2387    0.0813\n",
            "4    s002             1    5  ...       0.2517       0.1614    0.0818\n",
            "\n",
            "[5 rows x 34 columns]\n"
          ],
          "name": "stdout"
        }
      ]
    },
    {
      "cell_type": "markdown",
      "metadata": {
        "id": "UDM61BIYdlcT"
      },
      "source": [
        "# New Section"
      ]
    },
    {
      "cell_type": "code",
      "metadata": {
        "id": "i3BDjOa4bjCn",
        "colab": {
          "base_uri": "https://localhost:8080/"
        },
        "outputId": "1418ca0c-12a6-4f27-cc2c-a960c2cd0b3a"
      },
      "source": [
        "le=preprocessing.LabelEncoder()\r\n",
        "data['subject']=le.fit_transform(data['subject'])\r\n",
        "print(data.head())\r\n"
      ],
      "execution_count": null,
      "outputs": [
        {
          "output_type": "stream",
          "text": [
            "   subject  H.period  DD.period.t  ...  DD.l.Return  UD.l.Return  H.Return\n",
            "0        0    0.1491       0.3979  ...       0.3509       0.2171    0.0742\n",
            "1        0    0.1111       0.3451  ...       0.2756       0.1917    0.0747\n",
            "2        0    0.1328       0.2072  ...       0.2847       0.1762    0.0945\n",
            "3        0    0.1291       0.2515  ...       0.3232       0.2387    0.0813\n",
            "4        0    0.1249       0.2317  ...       0.2517       0.1614    0.0818\n",
            "\n",
            "[5 rows x 32 columns]\n"
          ],
          "name": "stdout"
        }
      ]
    },
    {
      "cell_type": "code",
      "metadata": {
        "id": "w_z1S25TbjKo",
        "colab": {
          "base_uri": "https://localhost:8080/"
        },
        "outputId": "07173f33-05db-4359-8d4b-70e05ee482e1"
      },
      "source": [
        "\r\n",
        "print(data.head())\r\n",
        "x=data.iloc[:,1:32].values\r\n",
        "y=data.iloc[:,0:1].values\r\n",
        "print(x[0])\r\n",
        "print(y[0])"
      ],
      "execution_count": null,
      "outputs": [
        {
          "output_type": "stream",
          "text": [
            "   subject  H.period  DD.period.t  ...  DD.l.Return  UD.l.Return  H.Return\n",
            "0        0    0.1491       0.3979  ...       0.3509       0.2171    0.0742\n",
            "1        0    0.1111       0.3451  ...       0.2756       0.1917    0.0747\n",
            "2        0    0.1328       0.2072  ...       0.2847       0.1762    0.0945\n",
            "3        0    0.1291       0.2515  ...       0.3232       0.2387    0.0813\n",
            "4        0    0.1249       0.2317  ...       0.2517       0.1614    0.0818\n",
            "\n",
            "[5 rows x 32 columns]\n",
            "[0.1491 0.3979 0.2488 0.1069 0.1674 0.0605 0.1169 0.2212 0.1043 0.1417\n",
            " 1.1885 1.0468 0.1146 1.6055 1.4909 0.1067 0.759  0.6523 0.1016 0.2136\n",
            " 0.112  0.1349 0.1484 0.0135 0.0932 0.3515 0.2583 0.1338 0.3509 0.2171\n",
            " 0.0742]\n",
            "[0]\n"
          ],
          "name": "stdout"
        }
      ]
    },
    {
      "cell_type": "code",
      "metadata": {
        "id": "Wn8ZMFbrbjNP"
      },
      "source": [
        "xtrain,xtest,ytrain,ytest=train_test_split(x,y.ravel(),test_size=0.1)"
      ],
      "execution_count": null,
      "outputs": []
    },
    {
      "cell_type": "code",
      "metadata": {
        "id": "Faa-oL-Ab4oP",
        "colab": {
          "base_uri": "https://localhost:8080/"
        },
        "outputId": "ddff2302-ca15-4f3c-f081-486892c96cdb"
      },
      "source": [
        "from sklearn.svm import SVC\r\n",
        "clf=SVC(kernel='rbf')\r\n",
        "clf.fit(xtrain,ytrain)\r\n",
        "ypred=clf.predict(xtest)\r\n",
        "\r\n",
        "print(xtest)"
      ],
      "execution_count": 18,
      "outputs": [
        {
          "output_type": "stream",
          "text": [
            "[[0.1056 0.1654 0.0598 ... 0.2461 0.1574 0.0985]\n",
            " [0.0723 0.258  0.1857 ... 0.3974 0.3327 0.0644]\n",
            " [0.1214 0.1316 0.0102 ... 0.2591 0.1197 0.1175]\n",
            " ...\n",
            " [0.1224 0.1637 0.0413 ... 0.2344 0.156  0.0781]\n",
            " [0.0486 0.5116 0.463  ... 0.6416 0.5996 0.0544]\n",
            " [0.0483 0.5445 0.4962 ... 0.336  0.242  0.0559]]\n"
          ],
          "name": "stdout"
        }
      ]
    },
    {
      "cell_type": "code",
      "metadata": {
        "id": "HIltlTU6k6ms",
        "outputId": "8c74b417-1657-44d1-cf05-3198ce981e3b",
        "colab": {
          "base_uri": "https://localhost:8080/"
        }
      },
      "source": [
        "print(accuracy_score(ytest,ypred))"
      ],
      "execution_count": 19,
      "outputs": [
        {
          "output_type": "stream",
          "text": [
            "0.782843137254902\n"
          ],
          "name": "stdout"
        }
      ]
    }
  ]
}